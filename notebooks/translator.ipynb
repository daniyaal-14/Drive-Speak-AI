{
 "cells": [
  {
   "cell_type": "code",
   "execution_count": null,
   "id": "3a9e05f2-811c-44d2-8163-dbd972b2bdca",
   "metadata": {},
   "outputs": [],
   "source": [
    "pip install transformers sentencepiece nltk"
   ]
  },
  {
   "cell_type": "code",
   "execution_count": null,
   "id": "c650acb8-47c4-4377-8947-116499a3bafa",
   "metadata": {},
   "outputs": [],
   "source": []
  },
  {
   "cell_type": "code",
   "execution_count": null,
   "id": "24332910-4d0e-4e9a-9385-179f3a9800eb",
   "metadata": {},
   "outputs": [],
   "source": [
    "# from transformers import MarianMTModel, MarianTokenizer"
   ]
  },
  {
   "cell_type": "code",
   "execution_count": null,
   "id": "9148b8a9-a3d2-4043-b27e-d73f4414c4cd",
   "metadata": {},
   "outputs": [],
   "source": [
    "# # Load the Hindi → English MarianMT model\n",
    "# model_name = \"Helsinki-NLP/opus-mt-hi-en\"\n",
    "\n",
    "# tokenizer = MarianTokenizer.from_pretrained(model_name)\n",
    "# model = MarianMTModel.from_pretrained(model_name)"
   ]
  },
  {
   "cell_type": "code",
   "execution_count": null,
   "id": "002b1ec0-1748-4377-a6a7-af660f9d3c06",
   "metadata": {},
   "outputs": [],
   "source": [
    "# def translate_hi_to_en(text):\n",
    "#     # Tokenize the input text\n",
    "#     tokens = tokenizer.prepare_seq2seq_batch([text], return_tensors=\"pt\", padding=True)\n",
    "\n",
    "#     # Run model inference\n",
    "#     translated_tokens = model.generate(**tokens)\n",
    "\n",
    "#     # Decode the result\n",
    "#     translated_text = tokenizer.decode(translated_tokens[0], skip_special_tokens=True)\n",
    "#     return translated_text"
   ]
  },
  {
   "cell_type": "code",
   "execution_count": 1,
   "id": "22c0629e-58d7-4d3e-9845-9dae3e7e46e2",
   "metadata": {},
   "outputs": [],
   "source": [
    "# sample = \"कृपया मुझे विश्वविद्यालय तक ले चलिए।\"\n",
    "# translated = translate_hi_to_en(sample)\n",
    "# print(\"Translated Output:\", translated)"
   ]
  },
  {
   "cell_type": "code",
   "execution_count": 2,
   "id": "d59e7dac-0f70-4850-a985-1e5eba596019",
   "metadata": {},
   "outputs": [],
   "source": [
    "# from src.nlp.slang_cleaner import normalize_slang\n",
    "\n",
    "# inputs = [\n",
    "#     \"plz bhai clg leja\",\n",
    "#     \"bhai mujhe pg chhoddo\",\n",
    "#     \"pls school lejao\"\n",
    "# ]\n",
    "\n",
    "# for sentence in inputs:\n",
    "#     print(\"Original:\", sentence)\n",
    "#     print(\"leaned :\", normalize_slang(sentence))\n",
    "#     print()"
   ]
  },
  {
   "cell_type": "markdown",
   "id": "3897ae31-df46-4ea5-86ee-e9456e60e5c5",
   "metadata": {},
   "source": [
    "# Here i have tried to use translator again with more modern and genz laguage "
   ]
  },
  {
   "cell_type": "code",
   "execution_count": 7,
   "id": "b68a9f75-8baf-4e37-a18e-2fd7fc932754",
   "metadata": {},
   "outputs": [
    {
     "ename": "ImportError",
     "evalue": "cannot import name 'clean_slang' from 'src.nlp.slang_cleaner' (D:\\Drive-Speak-ai\\src\\nlp\\slang_cleaner.py)",
     "output_type": "error",
     "traceback": [
      "\u001b[1;31m---------------------------------------------------------------------------\u001b[0m",
      "\u001b[1;31mImportError\u001b[0m                               Traceback (most recent call last)",
      "Cell \u001b[1;32mIn[7], line 4\u001b[0m\n\u001b[0;32m      1\u001b[0m \u001b[38;5;66;03m# src/nlp/translator.py\u001b[39;00m\n\u001b[0;32m      3\u001b[0m \u001b[38;5;28;01mfrom\u001b[39;00m \u001b[38;5;21;01mtransformers\u001b[39;00m \u001b[38;5;28;01mimport\u001b[39;00m MarianMTModel, MarianTokenizer\n\u001b[1;32m----> 4\u001b[0m \u001b[38;5;28;01mfrom\u001b[39;00m \u001b[38;5;21;01msrc\u001b[39;00m\u001b[38;5;21;01m.\u001b[39;00m\u001b[38;5;21;01mnlp\u001b[39;00m\u001b[38;5;21;01m.\u001b[39;00m\u001b[38;5;21;01mslang_cleaner\u001b[39;00m \u001b[38;5;28;01mimport\u001b[39;00m clean_slang\n\u001b[0;32m      6\u001b[0m \u001b[38;5;28;01mclass\u001b[39;00m \u001b[38;5;21;01mTextTranslator\u001b[39;00m:\n\u001b[0;32m      7\u001b[0m     \u001b[38;5;28;01mdef\u001b[39;00m \u001b[38;5;21m__init__\u001b[39m(\u001b[38;5;28mself\u001b[39m, src_lang\u001b[38;5;241m=\u001b[39m\u001b[38;5;124m\"\u001b[39m\u001b[38;5;124men\u001b[39m\u001b[38;5;124m\"\u001b[39m, tgt_lang\u001b[38;5;241m=\u001b[39m\u001b[38;5;124m\"\u001b[39m\u001b[38;5;124mhi\u001b[39m\u001b[38;5;124m\"\u001b[39m):\n",
      "\u001b[1;31mImportError\u001b[0m: cannot import name 'clean_slang' from 'src.nlp.slang_cleaner' (D:\\Drive-Speak-ai\\src\\nlp\\slang_cleaner.py)"
     ]
    }
   ],
   "source": [
    "# src/nlp/translator.py\n",
    "\n",
    "from transformers import MarianMTModel, MarianTokenizer\n",
    "from src.nlp.slang_cleaner import clean_slang\n",
    "\n",
    "class TextTranslator:\n",
    "    def __init__(self, src_lang=\"en\", tgt_lang=\"hi\"):\n",
    "        model_name = f\"Helsinki-NLP/opus-mt-{src_lang}-{tgt_lang}\"\n",
    "        self.tokenizer = MarianTokenizer.from_pretrained(model_name)\n",
    "        self.model = MarianMTModel.from_pretrained(model_name)\n",
    "\n",
    "    def translate(self, text):\n",
    "        cleaned_text = clean_slang(text)\n",
    "        tokens = self.tokenizer(cleaned_text, return_tensors=\"pt\", padding=True)\n",
    "        translated = self.model.generate(**tokens)\n",
    "        return self.tokenizer.decode(translated[0], skip_special_tokens=True)"
   ]
  },
  {
   "cell_type": "code",
   "execution_count": null,
   "id": "900da78b-176a-4e8c-9134-7155d09a4180",
   "metadata": {},
   "outputs": [],
   "source": [
    "from src.nlp.translator import TextTranslator\n",
    "\n",
    "translator = TextTranslator(src_lang=\"en\", tgt_lang=\"hi\")\n",
    "print(translator.translate(\"please take me to the college\"))\n"
   ]
  },
  {
   "cell_type": "code",
   "execution_count": 5,
   "id": "02907bfd-9753-4cc9-936b-b4ab7992cc30",
   "metadata": {},
   "outputs": [],
   "source": [
    "import sys\n",
    "import os"
   ]
  },
  {
   "cell_type": "code",
   "execution_count": 6,
   "id": "7afe5d98-3453-4cbd-b420-0306445bdeb1",
   "metadata": {},
   "outputs": [],
   "source": [
    "sys.path.append(os.path.abspath(\"../src\"))\n",
    "sys.path.append(os.path.abspath(\"..\"))"
   ]
  },
  {
   "cell_type": "code",
   "execution_count": null,
   "id": "c5c85770-c073-405e-9a4d-7557197397e7",
   "metadata": {},
   "outputs": [],
   "source": []
  }
 ],
 "metadata": {
  "kernelspec": {
   "display_name": "Python 3 (ipykernel)",
   "language": "python",
   "name": "python3"
  },
  "language_info": {
   "codemirror_mode": {
    "name": "ipython",
    "version": 3
   },
   "file_extension": ".py",
   "mimetype": "text/x-python",
   "name": "python",
   "nbconvert_exporter": "python",
   "pygments_lexer": "ipython3",
   "version": "3.11.5"
  }
 },
 "nbformat": 4,
 "nbformat_minor": 5
}
