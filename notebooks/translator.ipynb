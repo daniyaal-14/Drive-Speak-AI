{
 "cells": [
  {
   "cell_type": "code",
   "execution_count": 1,
   "id": "3a9e05f2-811c-44d2-8163-dbd972b2bdca",
   "metadata": {},
   "outputs": [
    {
     "name": "stdout",
     "output_type": "stream",
     "text": [
      "Requirement already satisfied: transformers in c:\\users\\hp\\appdata\\local\\programs\\python\\python311\\lib\\site-packages (4.52.4)\n",
      "Requirement already satisfied: sentencepiece in c:\\users\\hp\\appdata\\local\\programs\\python\\python311\\lib\\site-packages (0.2.0)\n",
      "Requirement already satisfied: nltk in c:\\users\\hp\\appdata\\local\\programs\\python\\python311\\lib\\site-packages (3.9.1)\n",
      "Requirement already satisfied: filelock in c:\\users\\hp\\appdata\\local\\programs\\python\\python311\\lib\\site-packages (from transformers) (3.18.0)\n",
      "Requirement already satisfied: huggingface-hub<1.0,>=0.30.0 in c:\\users\\hp\\appdata\\local\\programs\\python\\python311\\lib\\site-packages (from transformers) (0.32.3)\n",
      "Requirement already satisfied: numpy>=1.17 in c:\\users\\hp\\appdata\\local\\programs\\python\\python311\\lib\\site-packages (from transformers) (2.1.3)\n",
      "Requirement already satisfied: packaging>=20.0 in c:\\users\\hp\\appdata\\roaming\\python\\python311\\site-packages (from transformers) (24.2)\n",
      "Requirement already satisfied: pyyaml>=5.1 in c:\\users\\hp\\appdata\\local\\programs\\python\\python311\\lib\\site-packages (from transformers) (6.0.2)\n",
      "Requirement already satisfied: regex!=2019.12.17 in c:\\users\\hp\\appdata\\local\\programs\\python\\python311\\lib\\site-packages (from transformers) (2024.11.6)\n",
      "Requirement already satisfied: requests in c:\\users\\hp\\appdata\\local\\programs\\python\\python311\\lib\\site-packages (from transformers) (2.32.3)\n",
      "Requirement already satisfied: tokenizers<0.22,>=0.21 in c:\\users\\hp\\appdata\\local\\programs\\python\\python311\\lib\\site-packages (from transformers) (0.21.1)\n",
      "Requirement already satisfied: safetensors>=0.4.3 in c:\\users\\hp\\appdata\\local\\programs\\python\\python311\\lib\\site-packages (from transformers) (0.5.3)\n",
      "Requirement already satisfied: tqdm>=4.27 in c:\\users\\hp\\appdata\\local\\programs\\python\\python311\\lib\\site-packages (from transformers) (4.67.1)\n",
      "Requirement already satisfied: click in c:\\users\\hp\\appdata\\local\\programs\\python\\python311\\lib\\site-packages (from nltk) (8.1.8)\n",
      "Requirement already satisfied: joblib in c:\\users\\hp\\appdata\\local\\programs\\python\\python311\\lib\\site-packages (from nltk) (1.4.2)\n",
      "Requirement already satisfied: fsspec>=2023.5.0 in c:\\users\\hp\\appdata\\local\\programs\\python\\python311\\lib\\site-packages (from huggingface-hub<1.0,>=0.30.0->transformers) (2025.3.0)\n",
      "Requirement already satisfied: typing-extensions>=3.7.4.3 in c:\\users\\hp\\appdata\\roaming\\python\\python311\\site-packages (from huggingface-hub<1.0,>=0.30.0->transformers) (4.12.2)\n",
      "Requirement already satisfied: colorama in c:\\users\\hp\\appdata\\roaming\\python\\python311\\site-packages (from tqdm>=4.27->transformers) (0.4.6)\n",
      "Requirement already satisfied: charset-normalizer<4,>=2 in c:\\users\\hp\\appdata\\local\\programs\\python\\python311\\lib\\site-packages (from requests->transformers) (3.4.1)\n",
      "Requirement already satisfied: idna<4,>=2.5 in c:\\users\\hp\\appdata\\local\\programs\\python\\python311\\lib\\site-packages (from requests->transformers) (3.10)\n",
      "Requirement already satisfied: urllib3<3,>=1.21.1 in c:\\users\\hp\\appdata\\local\\programs\\python\\python311\\lib\\site-packages (from requests->transformers) (2.3.0)\n",
      "Requirement already satisfied: certifi>=2017.4.17 in c:\\users\\hp\\appdata\\local\\programs\\python\\python311\\lib\\site-packages (from requests->transformers) (2025.1.31)\n",
      "Note: you may need to restart the kernel to use updated packages.\n"
     ]
    },
    {
     "name": "stderr",
     "output_type": "stream",
     "text": [
      "\n",
      "[notice] A new release of pip is available: 25.0.1 -> 25.1.1\n",
      "[notice] To update, run: C:\\Users\\HP\\AppData\\Local\\Programs\\Python\\Python311\\python.exe -m pip install --upgrade pip\n"
     ]
    }
   ],
   "source": [
    "pip install transformers sentencepiece nltk"
   ]
  },
  {
   "cell_type": "code",
   "execution_count": 2,
   "id": "c650acb8-47c4-4377-8947-116499a3bafa",
   "metadata": {},
   "outputs": [],
   "source": [
    "import sys\n",
    "import os\n",
    "\n",
    "# Add project root and src folder to Python path\n",
    "sys.path.append(os.path.abspath(\"..\"))\n",
    "sys.path.append(os.path.abspath(\"../src\"))"
   ]
  },
  {
   "cell_type": "markdown",
   "id": "3897ae31-df46-4ea5-86ee-e9456e60e5c5",
   "metadata": {},
   "source": [
    "# Here i have tried to use translator again with more modern and genz laguage "
   ]
  },
  {
   "cell_type": "code",
   "execution_count": 10,
   "id": "c5c85770-c073-405e-9a4d-7557197397e7",
   "metadata": {},
   "outputs": [],
   "source": [
    "import re\n",
    "\n",
    "SLANG_DICT = {\n",
    "    \"plz\": \"please\",\n",
    "    \"krde\": \"kar do\",\n",
    "    \"drop krde\": \"chod do\",\n",
    "    \"clg\": \"college\",\n",
    "    \"pg\": \"pg\",\n",
    "    \"leja\": \"le ja\",\n",
    "    \"lejao\": \"le jao\",\n",
    "    \"chhoddo\": \"chod do\",\n",
    "    \"mujhe\": \"mujhe\",\n",
    "    \"school\": \"school\",\n",
    "    \"bhai\": \"bhai\",\n",
    "    \"bro\": \"bhai\",\n",
    "    \"jaa\": \"ja\",\n",
    "    \"chal\": \"chalo\",\n",
    "    \"mein\": \"main\",\n",
    "    \"aa\": \"a\",\n",
    "    \"ja\": \"ja\",\n",
    "    \"pls\": \"please\"\n",
    "}\n",
    "\n",
    "def clean_slang(text: str) -> str:\n",
    "    text = text.lower().strip()\n",
    "    for slang, proper in SLANG_DICT.items():\n",
    "        text = re.sub(rf\"\\b{re.escape(slang)}\\b\", proper, text)\n",
    "\n",
    "    text = text.replace(\"please bhai\", \"कृपया भाई\")\n",
    "    text = text.replace(\"bhai please\", \"भाई कृपया\")\n",
    "    text = text.replace(\"please\", \"कृपया\")\n",
    "    text = text.replace(\"mujhe\", \"मुझे\")\n",
    "    text = text.replace(\"le ja\", \"ले जाओ\")\n",
    "    text = text.replace(\"chod do\", \"छोड़ दो\")\n",
    "    text = text.replace(\"college\", \"कॉलेज\")\n",
    "    text = text.replace(\"pg\", \"पीजी\")\n",
    "    text = text.replace(\"school\", \"स्कूल\")\n",
    "    text = text.replace(\"chalo\", \"चलो\")\n",
    "\n",
    "    return text\n"
   ]
  },
  {
   "cell_type": "code",
   "execution_count": 11,
   "id": "29193a61-e7be-4de0-b932-296352a5e7b0",
   "metadata": {},
   "outputs": [],
   "source": [
    "from transformers import MarianMTModel, MarianTokenizer\n",
    "\n",
    "class TextTranslator:\n",
    "    def __init__(self, src_lang=\"en\", tgt_lang=\"hi\"):\n",
    "        model_name = f\"Helsinki-NLP/opus-mt-{src_lang}-{tgt_lang}\"\n",
    "        self.tokenizer = MarianTokenizer.from_pretrained(model_name)\n",
    "        self.model = MarianMTModel.from_pretrained(model_name)\n",
    "\n",
    "    def translate(self, text):\n",
    "        cleaned_text = clean_slang(text)\n",
    "        tokens = self.tokenizer(cleaned_text, return_tensors=\"pt\", padding=True)\n",
    "        translated = self.model.generate(**tokens)\n",
    "        return self.tokenizer.decode(translated[0], skip_special_tokens=True)\n"
   ]
  },
  {
   "cell_type": "code",
   "execution_count": 12,
   "id": "76ae591c-07fb-4911-a295-1a793db3650c",
   "metadata": {},
   "outputs": [
    {
     "data": {
      "application/vnd.jupyter.widget-view+json": {
       "model_id": "8f67d3ca02864b2d9272b8d0418fd7b1",
       "version_major": 2,
       "version_minor": 0
      },
      "text/plain": [
       "tokenizer_config.json:   0%|          | 0.00/44.0 [00:00<?, ?B/s]"
      ]
     },
     "metadata": {},
     "output_type": "display_data"
    },
    {
     "name": "stderr",
     "output_type": "stream",
     "text": [
      "C:\\Users\\HP\\AppData\\Local\\Programs\\Python\\Python311\\Lib\\site-packages\\huggingface_hub\\file_download.py:143: UserWarning: `huggingface_hub` cache-system uses symlinks by default to efficiently store duplicated files but your machine does not support them in C:\\Users\\HP\\.cache\\huggingface\\hub\\models--Helsinki-NLP--opus-mt-en-hi. Caching files will still work but in a degraded version that might require more space on your disk. This warning can be disabled by setting the `HF_HUB_DISABLE_SYMLINKS_WARNING` environment variable. For more details, see https://huggingface.co/docs/huggingface_hub/how-to-cache#limitations.\n",
      "To support symlinks on Windows, you either need to activate Developer Mode or to run Python as an administrator. In order to activate developer mode, see this article: https://docs.microsoft.com/en-us/windows/apps/get-started/enable-your-device-for-development\n",
      "  warnings.warn(message)\n"
     ]
    },
    {
     "data": {
      "application/vnd.jupyter.widget-view+json": {
       "model_id": "42ea589fde954e4384c3426aa650d2a5",
       "version_major": 2,
       "version_minor": 0
      },
      "text/plain": [
       "source.spm:   0%|          | 0.00/812k [00:00<?, ?B/s]"
      ]
     },
     "metadata": {},
     "output_type": "display_data"
    },
    {
     "data": {
      "application/vnd.jupyter.widget-view+json": {
       "model_id": "da9e4a439a214ddbbbd0a593636bf021",
       "version_major": 2,
       "version_minor": 0
      },
      "text/plain": [
       "target.spm:   0%|          | 0.00/1.07M [00:00<?, ?B/s]"
      ]
     },
     "metadata": {},
     "output_type": "display_data"
    },
    {
     "data": {
      "application/vnd.jupyter.widget-view+json": {
       "model_id": "a84e2d2341b14176a550a425787811dd",
       "version_major": 2,
       "version_minor": 0
      },
      "text/plain": [
       "vocab.json:   0%|          | 0.00/2.10M [00:00<?, ?B/s]"
      ]
     },
     "metadata": {},
     "output_type": "display_data"
    },
    {
     "data": {
      "application/vnd.jupyter.widget-view+json": {
       "model_id": "b7aab2ab51ec4946b2f750f79de0160d",
       "version_major": 2,
       "version_minor": 0
      },
      "text/plain": [
       "config.json:   0%|          | 0.00/1.39k [00:00<?, ?B/s]"
      ]
     },
     "metadata": {},
     "output_type": "display_data"
    },
    {
     "name": "stderr",
     "output_type": "stream",
     "text": [
      "C:\\Users\\HP\\AppData\\Local\\Programs\\Python\\Python311\\Lib\\site-packages\\transformers\\models\\marian\\tokenization_marian.py:177: UserWarning: Recommended: pip install sacremoses.\n",
      "  warnings.warn(\"Recommended: pip install sacremoses.\")\n"
     ]
    },
    {
     "data": {
      "application/vnd.jupyter.widget-view+json": {
       "model_id": "67bcc51db97442eeafd27ca06fdb8cc4",
       "version_major": 2,
       "version_minor": 0
      },
      "text/plain": [
       "pytorch_model.bin:   0%|          | 0.00/306M [00:00<?, ?B/s]"
      ]
     },
     "metadata": {},
     "output_type": "display_data"
    },
    {
     "data": {
      "application/vnd.jupyter.widget-view+json": {
       "model_id": "0140ddb5c4144b0f834f6812133d5a83",
       "version_major": 2,
       "version_minor": 0
      },
      "text/plain": [
       "generation_config.json:   0%|          | 0.00/293 [00:00<?, ?B/s]"
      ]
     },
     "metadata": {},
     "output_type": "display_data"
    },
    {
     "data": {
      "application/vnd.jupyter.widget-view+json": {
       "model_id": "45206b16d5fc4e668e7f15920b481d34",
       "version_major": 2,
       "version_minor": 0
      },
      "text/plain": [
       "model.safetensors:   0%|          | 0.00/306M [00:00<?, ?B/s]"
      ]
     },
     "metadata": {},
     "output_type": "display_data"
    },
    {
     "name": "stdout",
     "output_type": "stream",
     "text": [
      "माबूद आशा है कि एक बार फिर हम एक बार फिर से शादी कर लेंगे.\n"
     ]
    }
   ],
   "source": [
    "translator = TextTranslator(src_lang=\"en\", tgt_lang=\"hi\")\n",
    "print(translator.translate(\"please take me to the college\"))"
   ]
  },
  {
   "cell_type": "code",
   "execution_count": 13,
   "id": "13424620-0cba-4da2-8256-1246049c5878",
   "metadata": {},
   "outputs": [
    {
     "name": "stdout",
     "output_type": "stream",
     "text": [
      "🗣️ Input: Bhai plz mujhe clg drop krde\n",
      "🌐 Translated: OCTCTC+2+QQQ_BAR_कारक्शन करता है\n",
      "\n",
      "🗣️ Input: Pls leja pg\n",
      "🌐 Translated: GEST- 8डीआरडीसी आर आरसीसीसीएफईसी\n",
      "\n",
      "🗣️ Input: Chal bhai chhoddo mujhe school ke paas\n",
      "🌐 Translated: Aught ASTASFFFASFATRSARSAR_हर्ट फंककंड\n",
      "\n",
      "🗣️ Input: Drop krde bro, late ho raha hu\n",
      "🌐 Translated: फ्यूफ दो, देर से पिउ\n",
      "\n",
      "🗣️ Input: Krde hostel tak leave\n",
      "🌐 Translated: फायरकर दोगले छोड़ देते हैं\n",
      "\n",
      "🗣️ Input: Can you leja me to the pg pls?\n",
      "🌐 Translated: क्या आप अपने आप को गिन सकते हैं?\n",
      "\n",
      "🗣️ Input: Bhai pls hostel lejao\n",
      "🌐 Translated: imbaiah- Youwnagaglhhhghro\n",
      "\n"
     ]
    },
    {
     "data": {
      "application/vnd.jupyter.widget-view+json": {
       "model_id": "662626b8185f44e79cdc6dbbb72a1dcb",
       "version_major": 2,
       "version_minor": 0
      },
      "text/plain": [
       "model.safetensors:   0%|          | 0.00/306M [00:00<?, ?B/s]"
      ]
     },
     "metadata": {},
     "output_type": "display_data"
    }
   ],
   "source": [
    "test_sentences = [\n",
    "    \"Bhai plz mujhe clg drop krde\",\n",
    "    \"Pls leja pg\",\n",
    "    \"Chal bhai chhoddo mujhe school ke paas\",\n",
    "    \"Drop krde bro, late ho raha hu\",\n",
    "    \"Krde hostel tak leave\",\n",
    "    \"Can you leja me to the pg pls?\",\n",
    "    \"Bhai pls hostel lejao\"\n",
    "]\n",
    "\n",
    "translator = TextTranslator(src_lang=\"en\", tgt_lang=\"hi\")\n",
    "\n",
    "for sentence in test_sentences:\n",
    "    translated = translator.translate(sentence)\n",
    "    print(f\"🗣️ Input: {sentence}\")\n",
    "    print(f\"🌐 Translated: {translated}\\n\")\n"
   ]
  },
  {
   "cell_type": "code",
   "execution_count": null,
   "id": "830894db-c57d-4c00-b45b-5e9736214100",
   "metadata": {},
   "outputs": [],
   "source": []
  }
 ],
 "metadata": {
  "kernelspec": {
   "display_name": "Python 3 (ipykernel)",
   "language": "python",
   "name": "python3"
  },
  "language_info": {
   "codemirror_mode": {
    "name": "ipython",
    "version": 3
   },
   "file_extension": ".py",
   "mimetype": "text/x-python",
   "name": "python",
   "nbconvert_exporter": "python",
   "pygments_lexer": "ipython3",
   "version": "3.11.5"
  }
 },
 "nbformat": 4,
 "nbformat_minor": 5
}
